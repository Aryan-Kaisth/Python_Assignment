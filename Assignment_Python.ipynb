{
  "nbformat": 4,
  "nbformat_minor": 0,
  "metadata": {
    "colab": {
      "provenance": []
    },
    "kernelspec": {
      "name": "python3",
      "display_name": "Python 3"
    },
    "language_info": {
      "name": "python"
    }
  },
  "cells": [
    {
      "cell_type": "markdown",
      "source": [
        "Answer1:\n",
        "1. **Easy to Read and Write**\n",
        "    *   Simple Syntax\n",
        "    *   Readable Code (easy to read)\n",
        "2. **Versatile and Flexible**\n",
        "    *   It supports various programming paradigms, including procedural, object-oriented, and functional programming.\n",
        "    *   It is a General-Purpose Language\n",
        "3. **Active community**\n",
        "    *   Active Community: Python has a large, active community  \n",
        "4. **Rich Libraries**\n",
        "      * Python comes with lots of libraries\n",
        "5. **It is widely used in most industries**\n",
        "\n",
        "6. **Cross-Platform Compatibility**\n",
        "      * It can be used in different plartforms without needing changes to your code\n",
        "\n",
        "\n",
        "\n",
        "\n",
        "\n",
        "    "
      ],
      "metadata": {
        "id": "XLhZUnEdUj5Y"
      }
    },
    {
      "cell_type": "markdown",
      "source": [
        "Answer2:\n",
        "\n",
        "Predefined keywords are reserved words in python that have special meanings and cannot be used as identifiers(variable names, function names, etc). Each keyword perfrom a particular task in python. There are so many keywords in python like if, else, elif, True, False\n"
      ],
      "metadata": {
        "id": "OVREaDXsXWby"
      }
    },
    {
      "cell_type": "code",
      "source": [
        "#example 1\n",
        "x = 10\n",
        "if x > 5:\n",
        "    print(\"x is greater than 5\")\n",
        "# The if keyword is used to make a decision based on a condition.\n",
        "\n",
        "#example 2\n",
        "for i in range(5):\n",
        "    print(i)\n",
        "#The for keyword is used to create a loop that iterates over a sequence of values."
      ],
      "metadata": {
        "colab": {
          "base_uri": "https://localhost:8080/"
        },
        "id": "D7KZX884VpJP",
        "outputId": "34235ce1-0936-4d16-e9ea-5fbe95314edc"
      },
      "execution_count": 4,
      "outputs": [
        {
          "output_type": "stream",
          "name": "stdout",
          "text": [
            "x is greater than 5\n",
            "0\n",
            "1\n",
            "2\n",
            "3\n",
            "4\n"
          ]
        }
      ]
    },
    {
      "cell_type": "markdown",
      "source": [
        "Answer3:\n",
        "\n",
        "Mutable objects: Objects/containers whose state or values can be changed after they are created\n",
        "example: list, sets, dictionaries\n"
      ],
      "metadata": {
        "id": "BU9WpDltY9O5"
      }
    },
    {
      "cell_type": "code",
      "source": [
        "#example 1\n",
        "my_dict = {'a': 1, 'b': 2}\n",
        "my_dict['c'] = 3  # Modifies the original dictionary\n",
        "print(my_dict)  # Output: {'a': 1, 'b': 2, 'c': 3}\n",
        "\n",
        "#example 2\n",
        "my_list = [1, 2, 3]\n",
        "my_list[0]=4  # Modifies the original list\n",
        "print(my_list)  # Output: [4, 2, 3]\n"
      ],
      "metadata": {
        "colab": {
          "base_uri": "https://localhost:8080/"
        },
        "id": "i6i8fZuPZb-3",
        "outputId": "f6dd1590-b645-438f-8a20-cf5d7c52c2d4"
      },
      "execution_count": 5,
      "outputs": [
        {
          "output_type": "stream",
          "name": "stdout",
          "text": [
            "{'a': 1, 'b': 2, 'c': 3}\n",
            "[4, 2, 3]\n"
          ]
        }
      ]
    },
    {
      "cell_type": "markdown",
      "source": [
        "Immutable objects: objects/containers whose state or values can not be changed after they are created example: string, tuple"
      ],
      "metadata": {
        "id": "gCaJ_sBXaEbv"
      }
    },
    {
      "cell_type": "code",
      "source": [
        "#example 1\n",
        "b=\"aryan\"\n",
        "b[2]=i\n",
        "print(b) #error will occur"
      ],
      "metadata": {
        "colab": {
          "base_uri": "https://localhost:8080/",
          "height": 200
        },
        "id": "8n7srdhUaXFP",
        "outputId": "4ca2b3ea-30bd-474c-8d4f-0cb88af2fa6f"
      },
      "execution_count": 6,
      "outputs": [
        {
          "output_type": "error",
          "ename": "TypeError",
          "evalue": "'str' object does not support item assignment",
          "traceback": [
            "\u001b[0;31m---------------------------------------------------------------------------\u001b[0m",
            "\u001b[0;31mTypeError\u001b[0m                                 Traceback (most recent call last)",
            "\u001b[0;32m<ipython-input-6-1c0748aa4deb>\u001b[0m in \u001b[0;36m<cell line: 3>\u001b[0;34m()\u001b[0m\n\u001b[1;32m      1\u001b[0m \u001b[0;31m#example 1\u001b[0m\u001b[0;34m\u001b[0m\u001b[0;34m\u001b[0m\u001b[0m\n\u001b[1;32m      2\u001b[0m \u001b[0mb\u001b[0m\u001b[0;34m=\u001b[0m\u001b[0;34m\"aryan\"\u001b[0m\u001b[0;34m\u001b[0m\u001b[0;34m\u001b[0m\u001b[0m\n\u001b[0;32m----> 3\u001b[0;31m \u001b[0mb\u001b[0m\u001b[0;34m[\u001b[0m\u001b[0;36m2\u001b[0m\u001b[0;34m]\u001b[0m\u001b[0;34m=\u001b[0m\u001b[0mi\u001b[0m\u001b[0;34m\u001b[0m\u001b[0;34m\u001b[0m\u001b[0m\n\u001b[0m\u001b[1;32m      4\u001b[0m \u001b[0mprint\u001b[0m\u001b[0;34m(\u001b[0m\u001b[0mb\u001b[0m\u001b[0;34m)\u001b[0m \u001b[0;31m#error will occur\u001b[0m\u001b[0;34m\u001b[0m\u001b[0;34m\u001b[0m\u001b[0m\n",
            "\u001b[0;31mTypeError\u001b[0m: 'str' object does not support item assignment"
          ]
        }
      ]
    },
    {
      "cell_type": "markdown",
      "source": [
        "Comparison\n",
        "\n",
        "Mutable Objects:\n",
        "1. Can be modified after creation.\n",
        "2. Changes affect the original object.\n",
        "3. Examples: Lists, Dictionaries, Sets.\n",
        "\n",
        "Immutable Objects:\n",
        "1. Cannot be modified after creation.\n",
        "2. Examples: Tuples, Strings,"
      ],
      "metadata": {
        "id": "OpPWPadTnEmm"
      }
    },
    {
      "cell_type": "markdown",
      "source": [
        "Answer 4:\n",
        "\n",
        "\n",
        "1. **Arithmetic Operators**\n",
        "    * Addition (+): Adds two values.\n",
        "    * Subtraction (-): Subtracts the second value from the first.\n",
        "    * Multiplication (*): Multiplies two values.\n",
        "    * Division (/): Divides the first value by the second (returns a float).\n",
        "    * Floor Division (//): Divides the first value by the second and returns the integer part.\n",
        "    * Modulus (%): Returns the remainder of the division.\n",
        "    * Exponentiation (**): Raises the first value to the power of the second.\n",
        "2. Comparison Operators\n",
        "    * Equal to (==): Checks if two values are equal.\n",
        "    * Not equal to (!=): Checks if two values are not equal.\n",
        "    * Greater than (>): Checks if the first value is greater than the second.\n",
        "    * Less than (<): Checks if the first value is less than the second.\n",
        "    * Greater than or equal to (>=):\n",
        "    * Less than or equal to (<=):\n",
        "3. Logical Operators\n",
        "    * And (and): Returns True if both conditions are True.\n",
        "    * Or (or): Returns True if at least one condition is True.\n",
        "    * Not (not): Returns True if the condition is False.\n",
        "4. Assignment Operators\n",
        "    * Assign (=): Assigns a value to a variable.\n",
        "    * Add and assign (+=): Adds and assigns the result.\n",
        "    * Subtract and assign (-=): Subtracts and assigns the result.\n",
        "    * Multiply and assign (*=): Multiplies and assigns the result.\n",
        "    * Divide and assign (/=): Divides and assigns the result.\n",
        "    * Raises a variable to the power of a value and assigns the result.(**=)\n",
        "5.  Identity Operators\n",
        "    * Is (is): Checks if two variables point to the same object.\n",
        "    * Is not (is not): Checks if two variables do not point to the same object.\n",
        "6. Membership Operators\n",
        "   * In (in): Checks if a value exists in a sequence.\n",
        "   * Not in (not in): Checks if a value does not exist in a sequence.\n",
        "7. Bitwise Operators\n",
        "    * AND (&): Performs bitwise AND.\n",
        "    * OR (|): Performs bitwise OR.\n",
        "    * XOR (^): Performs bitwise XOR.\n",
        "    * NOT (~): Performs bitwise NOT.\n",
        "    * Left shift (<<): Shifts bits to the left.\n",
        "    * Right shift (>>): Shifts bits to the right.\n"
      ],
      "metadata": {
        "id": "YsrTkybKasCk"
      }
    },
    {
      "cell_type": "code",
      "source": [
        "# Arithmetic Operators\n",
        "result = 5 + 3\n",
        "print(\"Addition:\", result)  # Output: 8\n",
        "\n",
        "result = 10 - 4\n",
        "print(\"Subtraction:\", result)  # Output: 6\n",
        "\n",
        "result = 7 * 3\n",
        "print(\"Multiplication:\", result)  # Output: 21\n",
        "\n",
        "result = 15 / 2\n",
        "print(\"Division:\", result)  # Output: 7.5\n",
        "\n",
        "result = 15 // 2\n",
        "print(\"Floor Division:\", result)  # Output: 7\n",
        "\n",
        "result = 15 % 4\n",
        "print(\"Modulus:\", result)  # Output: 3\n",
        "\n",
        "result = 2 ** 3\n",
        "print(\"Exponentiation:\", result)  # Output: 8\n",
        "\n",
        "# Comparison Operators\n",
        "result = (5 == 5)\n",
        "print(\"Equal to:\", result)  # Output: True\n",
        "\n",
        "result = (5 != 3)\n",
        "print(\"Not equal to:\", result)  # Output: True\n",
        "\n",
        "result = (7 > 5)\n",
        "print(\"Greater than:\", result)  # Output: True\n",
        "\n",
        "result = (3 < 5)\n",
        "print(\"Less than:\", result)  # Output: True\n",
        "\n",
        "result = (5 >= 5)\n",
        "print(\"Greater than or equal to:\", result)  # Output: True\n",
        "\n",
        "result = (3 <= 4)\n",
        "print(\"Less than or equal to:\", result)  # Output: True\n",
        "\n",
        "# Logical Operators\n",
        "result = (5 > 3) and (2 < 4)\n",
        "print(\"Logical AND:\", result)  # Output: True\n",
        "\n",
        "result = (5 > 3) or (2 > 4)\n",
        "print(\"Logical OR:\", result)  # Output: True\n",
        "\n",
        "result = not (5 > 3)\n",
        "print(\"Logical NOT:\", result)  # Output: False\n",
        "\n",
        "# Assignment Operators\n",
        "x = 10\n",
        "print(\"Assign:\", x)  # Output: 10\n",
        "\n",
        "x += 5\n",
        "print(\"Add and assign:\", x)  # Output: 15\n",
        "\n",
        "x -= 3\n",
        "print(\"Subtract and assign:\", x)  # Output: 7\n",
        "\n",
        "x *= 2\n",
        "print(\"Multiply and assign:\", x)  # Output: 20\n",
        "\n",
        "x /= 2\n",
        "print(\"Divide and assign:\", x)  # Output: 5.0\n",
        "\n",
        "# Bitwise Operators\n",
        "result = 5 & 3\n",
        "print(\"Bitwise AND:\", result)  # Output: 1\n",
        "\n",
        "result = 5 | 3\n",
        "print(\"Bitwise OR:\", result)  # Output: 7\n",
        "\n",
        "result = 5 ^ 3\n",
        "print(\"Bitwise XOR:\", result)  # Output: 6\n",
        "\n",
        "result = ~5\n",
        "print(\"Bitwise NOT:\", result)  # Output: -6\n",
        "\n",
        "result = 5 << 1\n",
        "print(\"Left shift:\", result)  # Output: 10\n",
        "\n",
        "result = 5 >> 1\n",
        "print(\"Right shift:\", result)  # Output: 2\n",
        "\n",
        "# Membership Operators\n",
        "result = 3 in [1, 2, 3]\n",
        "print(\"Membership in:\", result)  # Output: True\n",
        "\n",
        "result = 4 not in [1, 2, 3]\n",
        "print(\"Membership not in:\", result)  # Output: True\n",
        "\n",
        "# Identity Operators\n",
        "x = [1, 2, 3]\n",
        "y = x\n",
        "result = (x is y)\n",
        "print(\"Identity is:\", result)  # Output: True\n",
        "\n",
        "x = [1, 2, 3]\n",
        "y = [1, 2, 3]\n",
        "result = (x is not y)\n",
        "print(\"Identity is not:\", result)  # Output: True\n"
      ],
      "metadata": {
        "colab": {
          "base_uri": "https://localhost:8080/"
        },
        "id": "677cifBbc5yP",
        "outputId": "4505bd2a-2443-40f0-f140-21902d9fc52b"
      },
      "execution_count": null,
      "outputs": [
        {
          "output_type": "stream",
          "name": "stdout",
          "text": [
            "Addition: 8\n",
            "Subtraction: 6\n",
            "Multiplication: 21\n",
            "Division: 7.5\n",
            "Floor Division: 7\n",
            "Modulus: 3\n",
            "Exponentiation: 8\n",
            "Equal to: True\n",
            "Not equal to: True\n",
            "Greater than: True\n",
            "Less than: True\n",
            "Greater than or equal to: True\n",
            "Less than or equal to: True\n",
            "Logical AND: True\n",
            "Logical OR: True\n",
            "Logical NOT: False\n",
            "Assign: 10\n",
            "Add and assign: 15\n",
            "Subtract and assign: 12\n",
            "Multiply and assign: 24\n",
            "Divide and assign: 12.0\n",
            "Bitwise AND: 1\n",
            "Bitwise OR: 7\n",
            "Bitwise XOR: 6\n",
            "Bitwise NOT: -6\n",
            "Left shift: 10\n",
            "Right shift: 2\n",
            "Membership in: True\n",
            "Membership not in: True\n",
            "Identity is: True\n",
            "Identity is not: True\n"
          ]
        }
      ]
    },
    {
      "cell_type": "markdown",
      "source": [
        "Answer 5:\n",
        "\n",
        "1. The process of changing the datatype of a value/object is called Type Casting.\n",
        "2. It is also called Type conversion.\n",
        "3. We need type casting to convert data into the correct type so we can perfrom operations or use functions that require specific type.\n",
        "4. To avoid missmatch between the data types.\n"
      ],
      "metadata": {
        "id": "-fOBk9pKdgv9"
      }
    },
    {
      "cell_type": "code",
      "source": [
        "# Type Casting Examples\n",
        "\n",
        "# 1. Integer to Float\n",
        "intvalue = 10\n",
        "floatvalue = float(intvalue)\n",
        "print(\"Integer to Float:\", floatvalue)  # Output: 10.0\n",
        "\n",
        "# 2. Float to Integer\n",
        "floatvalue = 10.75\n",
        "intvalue = int(floatvalue)\n",
        "print(\"Float to Integer:\", intvalue)  # Output: 10\n",
        "\n",
        "# 3. String to Integer\n",
        "strvalue = \"123\"\n",
        "intvalue = int(strvalue)\n",
        "print(\"String to Integer:\", intvalue)  # Output: 123\n",
        "\n",
        "# 4. Integer to String\n",
        "intvalue = 456\n",
        "strvalue = str(intvalue)\n",
        "print(\"Integer to String:\", strvalue)  # Output: \"456\"\n",
        "\n",
        "# 5. String to Float\n",
        "strvalue = \"12.34\"\n",
        "floatvalue = float(strvalue)\n",
        "print(\"String to Float:\", floatvalue)  # Output: 12.34\n"
      ],
      "metadata": {
        "colab": {
          "base_uri": "https://localhost:8080/"
        },
        "id": "9H2blqL4ebjd",
        "outputId": "23cb8f8f-d844-4875-ba95-c5dd10173005"
      },
      "execution_count": 7,
      "outputs": [
        {
          "output_type": "stream",
          "name": "stdout",
          "text": [
            "Integer to Float: 10.0\n",
            "Float to Integer: 10\n",
            "String to Integer: 123\n",
            "Integer to String: 456\n",
            "String to Float: 12.34\n"
          ]
        }
      ]
    },
    {
      "cell_type": "markdown",
      "source": [
        "Answer 6:\n",
        "\n",
        "Conditional statements control the flow of the program by running specific code only if certain conditions are satisfied. If the condition is True it will run the code. If the condition is False it will not run the code.\n",
        "\n",
        "**Types of Conditional statements**\n",
        "1. If: Executes a block of code if a specified condition is true.\n",
        "2. else: Executes one block of code if the condition is true and another block if the condition is false.\n",
        "3. elif: Checks multiple conditions in sequence\n",
        "4. Nested elif: A nested elif statement is an \"if else\" statement placed inside another \"if\", \"else\", or \"elif\" block"
      ],
      "metadata": {
        "id": "WeJP289ae0FH"
      }
    },
    {
      "cell_type": "code",
      "source": [
        "# Example of If Statement\n",
        "weather = \"sunny\"\n",
        "if weather == \"sunny\":\n",
        "    print(\"Go outside.\")\n",
        "\n",
        "# Example of If-Else Statement\n",
        "weather = \"rainy\"\n",
        "if weather == \"sunny\":\n",
        "    print(\"Go outside.\")\n",
        "else:\n",
        "    print(\"Stay indoors.\")\n",
        "\n",
        "# Example of elif Statement\n",
        "weather = \"cloudy\"\n",
        "if weather == \"sunny\":\n",
        "    print(\"Go outside.\")\n",
        "elif weather == \"rainy\":\n",
        "    print(\"Stay indoors.\")\n",
        "else:\n",
        "    print(\"Go to the gym.\")\n",
        "\n",
        "# Example of Nested elif Statements\n",
        "temperature = 70\n",
        "weather = \"sunny\"\n",
        "if weather == \"sunny\":\n",
        "    if temperature > 65:\n",
        "        print(\"Go to the beach.\")\n",
        "    else:\n",
        "        print(\"Take a walk.\")\n",
        "else:\n",
        "    print(\"Stay indoors.\")\n"
      ],
      "metadata": {
        "colab": {
          "base_uri": "https://localhost:8080/"
        },
        "id": "RxyiT3AIgqmX",
        "outputId": "558dba75-44fe-45b3-b2d4-a0f255b71494"
      },
      "execution_count": 8,
      "outputs": [
        {
          "output_type": "stream",
          "name": "stdout",
          "text": [
            "Go outside.\n",
            "Stay indoors.\n",
            "Go to the gym.\n",
            "Go to the beach.\n"
          ]
        }
      ]
    },
    {
      "cell_type": "markdown",
      "source": [
        "Answer 7:\n",
        "\n",
        "A loop statement allows you to repeat a block of code multiple times. It keeps running the code untill a specified condition is met\n",
        "\n",
        "**Types of loops**\n",
        "\n",
        "1. While loop: Repeats a block of code as long as a specified condition is true\n",
        "\n",
        "    **Use case:**\n",
        "  * Waiting for a Condition: Keep doing something until a certain condition is met.\n",
        "  * Waiting for User Input to Meet a Condition: Use a while loop to continuously prompt the user for input until they provide a valid response.\n",
        "  * Unknown Number of Repeats: When you don't know how many times you need to repeat.\n",
        "\n",
        "2. For loop: The for loop repeats a block of code for every item in a sequence. It goes through each item one by one and runs the code for each.\n",
        "\n",
        "    **Use case:**\n",
        "  * Going Through a List: To do something with each item in a list.\n",
        "  * Repeating a Task a Few Times: When you know how many times you need to repeat."
      ],
      "metadata": {
        "id": "G1EUDeLkhIaP"
      }
    },
    {
      "cell_type": "code",
      "source": [
        "# use case 1: Printing each fruit in a list using for loop\n",
        "fruits = [\"apple\", \"banana\", \"cherry\"]\n",
        "for fruit in fruits:\n",
        "    print(fruit)\n",
        "\n",
        "# use case 2: Using While Loop to print numbers from 4 to 6\n",
        "count = 4\n",
        "while count <= 6:\n",
        "    print(count)\n",
        "    count += 1\n",
        "\n",
        "# use case 3: Waiting for User Input to Meet a Condition using while loop\n",
        "password = \"\"\n",
        "while password != \"secret\":\n",
        "    password = input(\"Enter the password: \")\n",
        "print(\"Access granted!\")\n",
        "\n",
        "\n"
      ],
      "metadata": {
        "colab": {
          "base_uri": "https://localhost:8080/"
        },
        "id": "ikyyXduyh9pY",
        "outputId": "1546f24f-5d0c-400a-ad42-7f01e8ed7634"
      },
      "execution_count": 9,
      "outputs": [
        {
          "output_type": "stream",
          "name": "stdout",
          "text": [
            "apple\n",
            "banana\n",
            "cherry\n",
            "4\n",
            "5\n",
            "6\n",
            "Enter the password: secret\n",
            "Access granted!\n"
          ]
        }
      ]
    }
  ]
}